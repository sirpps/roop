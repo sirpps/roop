{
  "cells": [
    {
      "cell_type": "markdown",
      "metadata": {
        "id": "view-in-github",
        "colab_type": "text"
      },
      "source": [
        "<a href=\"https://colab.research.google.com/github/sirpps/roop/blob/main/One_click_deep_fake.ipynb\" target=\"_parent\"><img src=\"https://colab.research.google.com/assets/colab-badge.svg\" alt=\"Open In Colab\"/></a>"
      ]
    },
    {
      "cell_type": "code",
      "execution_count": null,
      "metadata": {
        "id": "714lbx2hQiOz",
        "cellView": "form"
      },
      "outputs": [],
      "source": [
        "#@title Prepare\n",
        "from IPython.display import clear_output as clear\n",
        "import threading, time, os\n",
        "from google.colab import drive\n",
        "#====================Making Path============\n",
        "#@markdown ---\n",
        "#@markdown usage: create directory in google drive called `deepfake` then move your dataset(image and photos for deepfaking in the folder)\n",
        "\n",
        "#@markdown `source` is base image (jpg, jpeg, png is recomended)\n",
        "\n",
        "#@markdown `target` is target image or video (jpg, jpeg, png and mp4 is recomended)\n",
        "source = \"/content/drive/MyDrive/deepfake/someone.jgp\" # @param {type:\"string\"}\n",
        "target = \"/content/drive/MyDrive/deepfake/anyvid.mp4\" # @param {type:\"string\"}\n",
        "#@markdown ---\n",
        "#@markdown Select the provider based on your notebook runtime, Gpu is most recommended than cpu\n",
        "runtime=\"gpu\" #@param ['gpu','cpu']\n",
        "def create_output_path(source, target):\n",
        "    # Extract the file names from the paths\n",
        "    source_filename = source.split(\"/\")[-1].split(\".\")[0]\n",
        "    target_filename = target.split(\"/\")[-1].split(\".\")[0]\n",
        "\n",
        "    # Extract the folder path from the target\n",
        "    target_folder = \"/\".join(target.split(\"/\")[:-1])\n",
        "\n",
        "    # Create the output path by combining the target folder, target filename, and source filename\n",
        "    output_filename = f\"{target_filename}-{source_filename}.mp4\"\n",
        "    output_path = f\"{target_folder}/{output_filename}\"\n",
        "\n",
        "    return output_path\n",
        "#====================Timer==============\n",
        "def update_timer_and_print():\n",
        "    global timer\n",
        "    while True:\n",
        "        hours, remainder = divmod(timer, 3600)\n",
        "        minutes, seconds = divmod(remainder, 60)\n",
        "        timer_str = f'{hours:02}:{minutes:02}:{seconds:02}'\n",
        "#        print(f'\\rTimer: {timer_str} ', end='', flush=True)  # Print without a newline\n",
        "        time.sleep(1)\n",
        "        timer += 1\n",
        "timer = 0\n",
        "#threading.Thread(target=update_timer_and_print, daemon=True).start()\n",
        "output = create_output_path(source, target)\n",
        "time.sleep(3)\n",
        "clear()\n",
        "print(f'>>> Video output will created at: \"{output}\"')\n",
        "!rm -rf /content/mukaanjay"
      ]
    },
    {
      "cell_type": "code",
      "source": [
        "#@title Cloning Repo\n",
        "#====================Use Drive==========\n",
        "if os.path.exists(\"/content/drive\") and os.path.isdir(\"/content/drive\"):\n",
        "  print(\"Drive folder already exist, skipping\")\n",
        "else:\n",
        "  print(\"Drive folder doesn't exist, mounting it...\")\n",
        "  !rm -rf *\n",
        "  time.sleep(2)\n",
        "  drive.mount('/content/drive')\n",
        "#====================Cloning============\n",
        "!git clone https://github.com/sirpps/roop mukaanjay\n",
        "%cd /content/mukaanjay/eserce"
      ],
      "metadata": {
        "cellView": "form",
        "id": "zfablIstjiuu"
      },
      "execution_count": null,
      "outputs": []
    },
    {
      "cell_type": "code",
      "source": [
        "#@title Installing Requirements\n",
        "if runtime==\"gpu\":\n",
        "  !pip install -r req-gpu.txt\n",
        "elif runtime==\"cpu\":\n",
        "  !pip install -r req-cpu.txt\n",
        "#clear()\n",
        "print(\">>> Next\")"
      ],
      "metadata": {
        "collapsed": true,
        "cellView": "form",
        "id": "QYMuNxCNlHAs"
      },
      "execution_count": null,
      "outputs": []
    },
    {
      "cell_type": "code",
      "execution_count": null,
      "metadata": {
        "id": "4exqmhqJWA3i",
        "cellView": "form"
      },
      "outputs": [],
      "source": [
        "#@title Run it\n",
        "if runtime==\"gpu\":\n",
        "  print(\"hai gw gpu\")\n",
        "  command = f\"python run.py -s '{source}' -t '{target}' -o '{output}' --keep-frames --keep-fps --output-video-quality 20 --execution-provider cuda --execution-threads 37 --max-memory 12\"\n",
        "elif runtime==\"cpu\":\n",
        "  print(\"hai gw cpu\")\n",
        "  command = f\"python run.py -s '{source}' -t '{target}' -o '{output}' --keep-frames --keep-fps --output-video-quality 18\"\n",
        "else:\n",
        "  print(\"you didn't choose any lol\")\n",
        "\n",
        "print(command)\n",
        "time.sleep(3)\n",
        "!{command}"
      ]
    },
    {
      "cell_type": "code",
      "execution_count": null,
      "metadata": {
        "cellView": "form",
        "id": "qkRRQoNgW7_V"
      },
      "outputs": [],
      "source": [
        "#@title Advanced Command\n",
        "!python run.py -h"
      ]
    }
  ],
  "metadata": {
    "accelerator": "GPU",
    "colab": {
      "gpuType": "T4",
      "provenance": [],
      "include_colab_link": true
    },
    "kernelspec": {
      "display_name": "Python 3",
      "name": "python3"
    },
    "language_info": {
      "name": "python"
    }
  },
  "nbformat": 4,
  "nbformat_minor": 0
}
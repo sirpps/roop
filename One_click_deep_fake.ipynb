{
  "cells": [
    {
      "cell_type": "code",
      "execution_count": null,
      "metadata": {
        "id": "714lbx2hQiOz",
        "cellView": "form"
      },
      "outputs": [],
      "source": [
        "#@title Clone Repository\n",
        "from IPython.display import clear_output as clear\n",
        "from google.colab import drive\n",
        "import threading, time, os\n",
        "\n",
        "#====================Making Path============\n",
        "#@markdown ---\n",
        "#@markdown `source` is base image (jpg, jpeg, png is recomended)\n",
        "#@markdown `target` is target image or video (jpg, jpeg, png and mp4 is recomended)\n",
        "source = \"/content/drive/MyDrive/example_image.png\" # @param {type:\"string\"}\n",
        "target = \"/content/drive/MyDrive/example_video.mp4\" # @param {type:\"string\"}\n",
        "#max_memory = \"10+(1/2)\" #@param {type:\"string\"}\n",
        "#@markdown ---\n",
        "#@markdown Select the provider based on your notebook runtime, Gpu is most recommended than cpu\n",
        "providernya=\"gpu\" #@param ['gpu','cpu']\n",
        "def create_output_path(source, target):\n",
        "    # Extract the file names from the paths\n",
        "    source_filename = source.split(\"/\")[-1].split(\".\")[0]\n",
        "    target_filename = target.split(\"/\")[-1].split(\".\")[0]\n",
        "\n",
        "    # Extract the folder path from the target\n",
        "    target_folder = \"/\".join(target.split(\"/\")[:-1])\n",
        "\n",
        "    # Create the output path by combining the target folder, target filename, and source filename\n",
        "    output_filename = f\"{target_filename}-{source_filename}.mp4\"\n",
        "    output_path = f\"{target_folder}/{output_filename}\"\n",
        "\n",
        "    return output_path\n",
        "\n",
        "#====================Timer==============\n",
        "def update_timer_and_print():\n",
        "    global timer\n",
        "    while True:\n",
        "        hours, remainder = divmod(timer, 3600)\n",
        "        minutes, seconds = divmod(remainder, 60)\n",
        "        timer_str = f'{hours:02}:{minutes:02}:{seconds:02}'\n",
        "#        print(f'\\rTimer: {timer_str} ', end='', flush=True)  # Print without a newline\n",
        "        time.sleep(1)\n",
        "        timer += 1\n",
        "timer = 0\n",
        "#threading.Thread(target=update_timer_and_print, daemon=True).start()\n",
        "\n",
        "#====================Use Drive==========\n",
        "drive.mount('/content/drive')\n",
        "#print(\"Drive Done\")\n",
        "\n",
        "#====================Cloning============\n",
        "%cd /content\n",
        "!rm -rf mukaanjay\n",
        "!git clone https://github.com/s0md3v/roop mukaanjay\n",
        "%cd /content/mukaanjay\n",
        "#print(\"Cloning Done\")\n",
        "output = create_output_path(source, target)\n",
        "time.sleep(3)\n",
        "clear()\n",
        "print(f'>>> Video output will created at: \"{output}\"')"
      ]
    },
    {
      "cell_type": "code",
      "execution_count": null,
      "metadata": {
        "id": "t1yPuhdySqCq",
        "cellView": "form"
      },
      "outputs": [],
      "source": [
        "#@title Installing Requirements\n",
        "if providernya==\"gpu\":\n",
        "#  print(\"hai gw gpu\")\n",
        "  !pip install onnxruntime-gpu==1.15.1 customtkinter==5.2.0 tkinterdnd2==0.3.0 tkinterdnd2-universal==1.7.3 insightface==0.7.3 opennsfw2==0.10.2\n",
        "elif providernya==\"cpu\":\n",
        "#  print(\"hai gw cpu\")\n",
        "  !pip install onnxruntime==1.15.1 customtkinter==5.2.0 tkinterdnd2==0.3.0 tkinterdnd2-universal==1.7.3 insightface==0.7.3 opennsfw2==0.10.2\n",
        "#!pip install -r requirements.txt\n",
        "!wget https://civitai.com/api/download/models/85159 -O inswapper_128.onnx\n",
        "##time.sleep(3)\n",
        "clear()\n",
        "print(\">>> Next\")"
      ]
    },
    {
      "cell_type": "code",
      "execution_count": null,
      "metadata": {
        "id": "4exqmhqJWA3i",
        "cellView": "form"
      },
      "outputs": [],
      "source": [
        "#@title Run it\n",
        "if providernya==\"gpu\":\n",
        "  print(\"hai gw gpu\")\n",
        "  command = f\"python run.py -s '{source}' -t '{target}' -o '{output}' --keep-frames --keep-fps --output-video-quality 20 --execution-provider cuda --execution-threads 37 --max-memory 12\"\n",
        "elif providernya==\"cpu\":\n",
        "  print(\"hai gw cpu\")\n",
        "  command = f\"python run.py -s '{source}' -t '{target}' -o '{output}' --keep-frames --keep-fps --output-video-quality 18\"\n",
        "else:\n",
        "  print(\"you didn't choose any lol\")\n",
        "\n",
        "print(command)\n",
        "time.sleep(3)\n",
        "!{command}"
      ]
    },
    {
      "cell_type": "code",
      "execution_count": null,
      "metadata": {
        "cellView": "form",
        "id": "qkRRQoNgW7_V"
      },
      "outputs": [],
      "source": [
        "#@title Advanced Command\n",
        "!python run.py -h"
      ]
    }
  ],
  "metadata": {
    "accelerator": "GPU",
    "colab": {
      "gpuType": "T4",
      "provenance": []
    },
    "kernelspec": {
      "display_name": "Python 3",
      "name": "python3"
    },
    "language_info": {
      "name": "python"
    }
  },
  "nbformat": 4,
  "nbformat_minor": 0
}
